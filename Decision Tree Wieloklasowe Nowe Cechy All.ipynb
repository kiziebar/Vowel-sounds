{
 "cells": [
  {
   "cell_type": "markdown",
   "metadata": {},
   "source": [
    "# Klasyfikator Decision Tree do klasyfikacji samogłosek"
   ]
  },
  {
   "cell_type": "markdown",
   "metadata": {},
   "source": [
    "## klasyfikacja na podstawie częstotliwości podstawowej f0 i czterech formantów f1, f2, f3 i f4, spc1, spc2, spc3 i entrspc"
   ]
  },
  {
   "cell_type": "markdown",
   "metadata": {},
   "source": [
    "Import niezbędnych bibliotek"
   ]
  },
  {
   "cell_type": "code",
   "execution_count": 1,
   "metadata": {},
   "outputs": [],
   "source": [
    "import numpy as np\n",
    "import pandas as pd\n",
    "import matplotlib.pyplot as plt\n",
    "from sklearn import tree\n",
    "from sklearn.model_selection import train_test_split\n",
    "from sklearn.metrics import accuracy_score, confusion_matrix, classification_report, roc_curve, auc\n",
    "import seaborn as sns\n",
    "from sklearn.svm import SVC\n",
    "from sklearn import preprocessing\n",
    "from sklearn.ensemble import ExtraTreesClassifier\n",
    "from sklearn.feature_selection import SelectFromModel\n",
    "from sklearn.svm import LinearSVC\n",
    "from sklearn.feature_selection import SelectKBest\n",
    "from sklearn.feature_selection import chi2"
   ]
  },
  {
   "cell_type": "markdown",
   "metadata": {},
   "source": [
    "Wczytanie zbioru danych"
   ]
  },
  {
   "cell_type": "code",
   "execution_count": 2,
   "metadata": {},
   "outputs": [
    {
     "name": "stdout",
     "output_type": "stream",
     "text": [
      "     Unnamed: 0 vowel  sex          f0       form1        form2        form3  \\\n",
      "0             0     a    1  204.081633  315.948937  1263.413590  1276.537740   \n",
      "1             1     a    1  196.078431  242.712410   805.882072  1374.298616   \n",
      "2             2     a    1  196.078431  217.568989  1028.162184  1497.574134   \n",
      "3             3     a    1  192.307692  231.209209  1085.102842  1496.766417   \n",
      "4             4     a    1  192.307692  234.594628  1034.159946  1475.186939   \n",
      "..          ...   ...  ...         ...         ...          ...          ...   \n",
      "115         115     y    0  140.845070  303.013981   646.618834  1541.130316   \n",
      "116         116     y    0  140.845070  287.549398   672.236633  1529.768064   \n",
      "117         117     y    0  138.888889    0.000000     0.000000   265.970918   \n",
      "118         118     y    0  138.888889  235.339449   525.554358  1440.605228   \n",
      "119         119     y    0  135.135135  230.090860   619.243258  1665.573217   \n",
      "\n",
      "           form4      spc1      spc2      spc3   entrspc  \n",
      "0    2647.008730  0.000000  0.043574  0.198995  3.815404  \n",
      "1    2839.218112  0.000000  0.065699  0.385172  3.099277  \n",
      "2    2940.119600  0.502954  0.603075  0.785064  2.440471  \n",
      "3    2867.654232  0.000000  0.029214  0.129859  3.297188  \n",
      "4    2965.366175  0.000000  0.047300  0.292196  2.898400  \n",
      "..           ...       ...       ...       ...       ...  \n",
      "115  2541.564076  0.398238  0.494138  0.612274  2.700768  \n",
      "116  2524.670542  0.263748  0.329809  0.655430  2.638560  \n",
      "117  1502.048156  0.679109  0.757114  1.000000  2.239823  \n",
      "118  2544.053450  0.537042  0.622504  0.970082  3.109960  \n",
      "119  2546.468139  0.044209  0.173276  0.198249  3.041003  \n",
      "\n",
      "[120 rows x 12 columns]\n"
     ]
    }
   ],
   "source": [
    "# Wczytanie zbioru danych\n",
    "dane = pd.read_csv('data.csv')\n",
    "print(dane)"
   ]
  },
  {
   "cell_type": "markdown",
   "metadata": {},
   "source": [
    "Posortowanie zbioru danych według samogłosek. Mamy po 20 próbek dla każdej z 6 samogłosek."
   ]
  },
  {
   "cell_type": "code",
   "execution_count": 3,
   "metadata": {},
   "outputs": [
    {
     "name": "stdout",
     "output_type": "stream",
     "text": [
      "     Unnamed: 0 vowel  sex          f0       form1        form2        form3  \\\n",
      "0             0     a    1  204.081633  315.948937  1263.413590  1276.537740   \n",
      "64           64     a    0  158.730159    0.000000     0.000000   625.723402   \n",
      "65           65     a    0  147.058824    0.000000     0.000000   585.885056   \n",
      "66           66     a    0  147.058824   57.147870   547.790667  1226.394104   \n",
      "67           67     a    0  142.857143  250.250064   896.375921  1150.711714   \n",
      "..          ...   ...  ...         ...         ...          ...          ...   \n",
      "52           52     y    1  188.679245  277.199163   486.697745  2137.913104   \n",
      "51           51     y    1  188.679245  301.555272   450.490850  2115.201333   \n",
      "50           50     y    1  204.081633    0.000000   382.441336  1434.444630   \n",
      "118         118     y    0  138.888889  235.339449   525.554358  1440.605228   \n",
      "119         119     y    0  135.135135  230.090860   619.243258  1665.573217   \n",
      "\n",
      "           form4      spc1      spc2      spc3   entrspc  \n",
      "0    2647.008730  0.000000  0.043574  0.198995  3.815404  \n",
      "64   1252.624817  0.000000  0.124924  0.603017  2.787090  \n",
      "65   1224.867304  0.000000  0.230040  0.464162  3.804804  \n",
      "66   2741.215155  0.325853  0.356340  0.488478  3.812406  \n",
      "67   2714.955427  0.356370  0.628263  1.000000  3.688920  \n",
      "..           ...       ...       ...       ...       ...  \n",
      "52   2959.066737  0.023442  0.043694  0.148104  2.406425  \n",
      "51   2966.392632  0.173376  0.116756  0.082141  2.464107  \n",
      "50   2183.091206  0.303255  0.241388  0.154546  2.341790  \n",
      "118  2544.053450  0.537042  0.622504  0.970082  3.109960  \n",
      "119  2546.468139  0.044209  0.173276  0.198249  3.041003  \n",
      "\n",
      "[120 rows x 12 columns]\n"
     ]
    }
   ],
   "source": [
    "dane = dane.sort_values('vowel')\n",
    "print(dane)"
   ]
  },
  {
   "cell_type": "markdown",
   "metadata": {},
   "source": [
    "Enkodowanie klas dla 6 samogłosek a, e, i, o, u, y"
   ]
  },
  {
   "cell_type": "code",
   "execution_count": 4,
   "metadata": {},
   "outputs": [],
   "source": [
    "X_dane = dane.iloc[:, 3:]\n",
    "X = np.array(X_dane)\n",
    "# Klasa plec\n",
    "y_dane = dane.iloc[:,[1]]\n",
    "y = list(np.array(y_dane).reshape(-1,))\n",
    "\n",
    "le = preprocessing.LabelEncoder()\n",
    "le.fit(y)\n",
    "y = le.transform(y)"
   ]
  },
  {
   "cell_type": "markdown",
   "metadata": {},
   "source": [
    "Podział na zbiór uczący i testowy w ten sposób, żeby każda samogłoska w nich w takiej samej liczbie (sprawiedliwy podział). W zbiorze uczącym po 15 próbek dla każdej samogłoski, a w testowym po 5. Jest to podział taki, że zbiór testowy stanowi 25 % zbioru uczącego."
   ]
  },
  {
   "cell_type": "code",
   "execution_count": 5,
   "metadata": {},
   "outputs": [],
   "source": [
    "#Podzial na zbior uczacy i testowy\n",
    "#X_train, X_test, y_train_enc, y_test_enc = train_test_split(\n",
    "#    X, y, test_size=0.30, random_state=42)\n",
    "idx = np.arange(0, len(X))\n",
    "ind_train = np.where(((idx + 1) % 4) != 0)\n",
    "ind_test = np.where(((idx + 1) % 4) == 0)\n",
    "X_train = X[ind_train]\n",
    "y_train_enc = y[ind_train]\n",
    "X_test = X[ind_test]\n",
    "y_test_enc = y[ind_test]"
   ]
  },
  {
   "cell_type": "markdown",
   "metadata": {},
   "source": [
    "Uczenie i predykcja, wyznaczenie dokładności predykcji."
   ]
  },
  {
   "cell_type": "code",
   "execution_count": 6,
   "metadata": {},
   "outputs": [
    {
     "name": "stdout",
     "output_type": "stream",
     "text": [
      "Accuracy: 0.6333\n"
     ]
    }
   ],
   "source": [
    "# Utworzenie modelu klasyfikatora\n",
    "clf = tree.DecisionTreeClassifier()\n",
    "\n",
    "# Uczenie klasyfikatora\n",
    "clf = clf.fit(X_train, y_train_enc)\n",
    "\n",
    "# Predykcja\n",
    "y_pred = clf.predict(X_test)\n",
    "\n",
    "# Dokladnosc predykcji\n",
    "print('Accuracy: %.4f' % accuracy_score(y_test_enc, y_pred))"
   ]
  },
  {
   "cell_type": "markdown",
   "metadata": {},
   "source": [
    "Odkodowanie klas w zbiorze uczącym i testowym, wyświetlenie macierzy konfuzji i raportu klasyfikacji"
   ]
  },
  {
   "cell_type": "code",
   "execution_count": 7,
   "metadata": {},
   "outputs": [
    {
     "data": {
      "image/png": "[encoded data removed]",
      "text/plain": [
       "<Figure size 432x432 with 2 Axes>"
      ]
     },
     "metadata": {},
     "output_type": "display_data"
    }
   ],
   "source": [
    "y_test = le.inverse_transform(y_test_enc)\n",
    "y_pred = le.inverse_transform(y_pred)\n",
    "\n",
    "# Macierz konfuzji\n",
    "sns.set(font_scale=1.4)\n",
    "plt.figure(figsize = (6, 6))\n",
    "data = {'etykieta rzeczywista': y_test, 'predykcja': y_pred}\n",
    "df = pd.DataFrame(data, columns=['etykieta rzeczywista', 'predykcja'])\n",
    "confusion_mat = pd.crosstab(df['etykieta rzeczywista'], df['predykcja'], rownames=['etykieta rzeczywista'], colnames=['predykcja'])\n",
    "sns.heatmap(confusion_mat, annot = True, cmap = \"viridis\")\n",
    "plt.tight_layout()\n",
    "plt.show()"
   ]
  },
  {
   "cell_type": "code",
   "execution_count": 8,
   "metadata": {},
   "outputs": [
    {
     "name": "stdout",
     "output_type": "stream",
     "text": [
      "Macierz konfuzji:\n",
      "[[5 0 0 0 0 0]\n",
      " [1 4 0 0 0 0]\n",
      " [0 0 2 0 0 3]\n",
      " [1 0 0 3 1 0]\n",
      " [0 0 1 0 3 1]\n",
      " [0 0 1 0 2 2]]\n",
      "Raport klasyfikacji\n",
      "              precision    recall  f1-score   support\n",
      "\n",
      "           a       0.71      1.00      0.83         5\n",
      "           e       1.00      0.80      0.89         5\n",
      "           i       0.50      0.40      0.44         5\n",
      "           o       1.00      0.60      0.75         5\n",
      "           u       0.50      0.60      0.55         5\n",
      "           y       0.33      0.40      0.36         5\n",
      "\n",
      "    accuracy                           0.63        30\n",
      "   macro avg       0.67      0.63      0.64        30\n",
      "weighted avg       0.67      0.63      0.64        30\n",
      "\n"
     ]
    }
   ],
   "source": [
    "# Macierz konfuzji\n",
    "print(\"Macierz konfuzji:\")\n",
    "print(confusion_matrix(y_test, y_pred))\n",
    "\n",
    "# Raport klasyfikacji\n",
    "print('Raport klasyfikacji')\n",
    "print(classification_report(y_test, y_pred))"
   ]
  },
  {
   "cell_type": "markdown",
   "metadata": {},
   "source": [
    "## Wnioski\n",
    "Dokładność predykcji wyniosła 63.33 %. Jak na klasyfikację wieloklasową z uwzględnieniem 6 klas dokładność może zostać uznana za wysoką. Samogłoski o największej liczbie prawidłowych rozpoznań to 'a' (5 prawidłowych rozpoznań) i 'e' (4 prawidłowe rozpoznania). Najmniejszą skuteczność zaobserwowano w przypadku rozpoznawania samogłoski 'i' oraz 'y' (dwa prawidłowe rozpoznania na pięć). Pełen zbiór uczący zawierający 9 cech powoduje mniejszą dokładność predykcji niż zbiór z wyselekcjonowanymi cechami metodą selekcji cech Tree-based feature selection, gdzie uzyskano dokładnośćpredyzkji na zbiorze testowym równą prawie 87 %, po selekcji najbardziej istotnych cech  f2, f3 i f4, oraz entrspc."
   ]
  },
  {
   "cell_type": "code",
   "execution_count": null,
   "metadata": {},
   "outputs": [],
   "source": [
    "#https://scikit-learn.org/stable/modules/feature_selection.html\n",
    "#https://machinelearningmastery.com/how-to-prepare-categorical-data-for-deep-learning-in-python/\n",
    "#https://scikit-learn.org/stable/modules/preprocessing_targets.html"
   ]
  }
 ],
 "metadata": {
  "kernelspec": {
   "display_name": "Python 3",
   "language": "python",
   "name": "python3"
  },
  "language_info": {
   "codemirror_mode": {
    "name": "ipython",
    "version": 3
   },
   "file_extension": ".py",
   "mimetype": "text/x-python",
   "name": "python",
   "nbconvert_exporter": "python",
   "pygments_lexer": "ipython3",
   "version": "3.8.6"
  }
 },
 "nbformat": 4,
 "nbformat_minor": 4
}
