{
 "cells": [
  {
   "cell_type": "markdown",
   "metadata": {},
   "source": [
    "# Klasyfikator Decision Tree do klasyfikacji samogłosek"
   ]
  },
  {
   "cell_type": "markdown",
   "metadata": {},
   "source": [
    "## klasyfikacja na podstawie częstotliwości podstawowej f0 i czterech formantów f1, f2, f3 i f4 - z zastosowaniem selekcji cech"
   ]
  },
  {
   "cell_type": "markdown",
   "metadata": {},
   "source": [
    "Import niezbędnych bibliotek"
   ]
  },
  {
   "cell_type": "code",
   "execution_count": 1,
   "metadata": {},
   "outputs": [],
   "source": [
    "import numpy as np\n",
    "import pandas as pd\n",
    "import matplotlib.pyplot as plt\n",
    "from sklearn import tree\n",
    "from sklearn.model_selection import train_test_split\n",
    "from sklearn.metrics import accuracy_score, confusion_matrix, classification_report, roc_curve, auc\n",
    "import seaborn as sns\n",
    "from sklearn.svm import SVC\n",
    "from sklearn import preprocessing\n",
    "from sklearn.ensemble import ExtraTreesClassifier\n",
    "from sklearn.feature_selection import SelectFromModel\n",
    "from sklearn.svm import LinearSVC\n",
    "from sklearn.feature_selection import SelectKBest\n",
    "from sklearn.feature_selection import chi2"
   ]
  },
  {
   "cell_type": "markdown",
   "metadata": {},
   "source": [
    "Wczytanie zbioru danych"
   ]
  },
  {
   "cell_type": "code",
   "execution_count": 10,
   "metadata": {},
   "outputs": [
    {
     "name": "stdout",
     "output_type": "stream",
     "text": [
      "     Unnamed: 0 vowel  sex          f0       form1        form2        form3  \\\n",
      "0             0     a    1  204.081633  315.948937  1263.413590  1276.537740   \n",
      "1             1     a    1  196.078431  242.712410   805.882072  1374.298616   \n",
      "2             2     a    1  196.078431  217.568989  1028.162184  1497.574134   \n",
      "3             3     a    1  192.307692  231.209209  1085.102842  1496.766417   \n",
      "4             4     a    1  192.307692  234.594628  1034.159946  1475.186939   \n",
      "..          ...   ...  ...         ...         ...          ...          ...   \n",
      "115         115     y    0  140.845070  303.013981   646.618834  1541.130316   \n",
      "116         116     y    0  140.845070  287.549398   672.236633  1529.768064   \n",
      "117         117     y    0  138.888889    0.000000     0.000000   265.970918   \n",
      "118         118     y    0  138.888889  235.339449   525.554358  1440.605228   \n",
      "119         119     y    0  135.135135  230.090860   619.243258  1665.573217   \n",
      "\n",
      "           form4  \n",
      "0    2647.008730  \n",
      "1    2839.218112  \n",
      "2    2940.119600  \n",
      "3    2867.654232  \n",
      "4    2965.366175  \n",
      "..           ...  \n",
      "115  2541.564076  \n",
      "116  2524.670542  \n",
      "117  1502.048156  \n",
      "118  2544.053450  \n",
      "119  2546.468139  \n",
      "\n",
      "[120 rows x 8 columns]\n"
     ]
    }
   ],
   "source": [
    "# Wczytanie zbioru danych\n",
    "dane = pd.read_csv('data.csv')\n",
    "print(dane)"
   ]
  },
  {
   "cell_type": "markdown",
   "metadata": {},
   "source": [
    "Posortowanie zbioru danych według samogłosek. Mamy po 20 próbek dla każdej z 6 samogłosek."
   ]
  },
  {
   "cell_type": "code",
   "execution_count": 11,
   "metadata": {},
   "outputs": [
    {
     "name": "stdout",
     "output_type": "stream",
     "text": [
      "     Unnamed: 0 vowel  sex          f0       form1        form2        form3  \\\n",
      "0             0     a    1  204.081633  315.948937  1263.413590  1276.537740   \n",
      "64           64     a    0  158.730159    0.000000     0.000000   625.723402   \n",
      "65           65     a    0  147.058824    0.000000     0.000000   585.885056   \n",
      "66           66     a    0  147.058824   57.147870   547.790667  1226.394104   \n",
      "67           67     a    0  142.857143  250.250064   896.375921  1150.711714   \n",
      "..          ...   ...  ...         ...         ...          ...          ...   \n",
      "52           52     y    1  188.679245  277.199163   486.697745  2137.913104   \n",
      "51           51     y    1  188.679245  301.555272   450.490850  2115.201333   \n",
      "50           50     y    1  204.081633    0.000000   382.441336  1434.444630   \n",
      "118         118     y    0  138.888889  235.339449   525.554358  1440.605228   \n",
      "119         119     y    0  135.135135  230.090860   619.243258  1665.573217   \n",
      "\n",
      "           form4  \n",
      "0    2647.008730  \n",
      "64   1252.624817  \n",
      "65   1224.867304  \n",
      "66   2741.215155  \n",
      "67   2714.955427  \n",
      "..           ...  \n",
      "52   2959.066737  \n",
      "51   2966.392632  \n",
      "50   2183.091206  \n",
      "118  2544.053450  \n",
      "119  2546.468139  \n",
      "\n",
      "[120 rows x 8 columns]\n"
     ]
    }
   ],
   "source": [
    "dane = dane.sort_values('vowel')\n",
    "print(dane)"
   ]
  },
  {
   "cell_type": "markdown",
   "metadata": {},
   "source": [
    "Enkodowanie klas dla 6 samogłosek a, e, i, o, u, y"
   ]
  },
  {
   "cell_type": "code",
   "execution_count": 12,
   "metadata": {},
   "outputs": [],
   "source": [
    "X_dane = dane.iloc[:, 3:]\n",
    "X = np.array(X_dane)\n",
    "# Klasa plec\n",
    "y_dane = dane.iloc[:,[1]]\n",
    "y = list(np.array(y_dane).reshape(-1,))\n",
    "\n",
    "le = preprocessing.LabelEncoder()\n",
    "le.fit(y)\n",
    "y = le.transform(y)"
   ]
  },
  {
   "cell_type": "markdown",
   "metadata": {},
   "source": [
    "Selekcja cech. Zastosowano metodę Tree-based feature selection, która umożliwia wyznaczenie istotności cech i dobór najistotniejszych, zmniejszając tym samym wymiarowość zbioru cech"
   ]
  },
  {
   "cell_type": "code",
   "execution_count": 13,
   "metadata": {},
   "outputs": [
    {
     "name": "stdout",
     "output_type": "stream",
     "text": [
      "(120, 3)\n",
      "[0.11826539 0.08274321 0.229738   0.34306728 0.22618611]\n",
      "Istotność cech:\n",
      "  Cecha  Istotnosc\n",
      "0    f0   0.118265\n",
      "1    f1   0.082743\n",
      "2    f2   0.229738\n",
      "3    f3   0.343067\n",
      "4    f4   0.226186\n"
     ]
    }
   ],
   "source": [
    "#X = SelectKBest(chi2, k=2).fit_transform(X, y)\n",
    "\n",
    "# L1-based feature selection\n",
    "#clfs = LinearSVC(C=0.01, penalty=\"l1\", dual=False).fit(X, y) #l1\n",
    "\n",
    "# Tree-based feature selection\n",
    "clfs = ExtraTreesClassifier(n_estimators=50) #tree\n",
    "clfs = clfs.fit(X, y) #tree\n",
    "\n",
    "model = SelectFromModel(clfs, prefit=True)\n",
    "X = model.transform(X)\n",
    "print(X.shape)\n",
    "\n",
    "# istotnosc cech\n",
    "print(clfs.feature_importances_)\n",
    "dataframe_istotnosc = pd.DataFrame()\n",
    "dataframe_istotnosc['Cecha'] = ['f0', 'f1', 'f2', 'f3', 'f4']\n",
    "dataframe_istotnosc['Istotnosc'] = list(clfs.feature_importances_)\n",
    "print('Istotność cech:')\n",
    "print(dataframe_istotnosc)"
   ]
  },
  {
   "cell_type": "markdown",
   "metadata": {},
   "source": [
    "Wybrane zostały trzy cechy o najwyższej istotności, czyli formanty f2, f3 i f4. Cechy f0 i f1 zostały odrzucone z powodu zbyt niskiej istotności."
   ]
  },
  {
   "cell_type": "markdown",
   "metadata": {},
   "source": [
    "Podział na zbiór uczący i testowy w ten sposób, żeby każda występowała samogłoska w nich w takiej samej liczbie (sprawiedliwy podział). W zbiorze uczącym po 15 próbek dla każdej samogłoski, a w testowym po 5. Jest to podział taki, że zbiór testowy stanowi 25 % zbioru uczącego."
   ]
  },
  {
   "cell_type": "code",
   "execution_count": 14,
   "metadata": {},
   "outputs": [],
   "source": [
    "#Podzial na zbior uczacy i testowy\n",
    "#X_train, X_test, y_train_enc, y_test_enc = train_test_split(\n",
    "#    X, y, test_size=0.30, random_state=42)\n",
    "idx = np.arange(0, len(X))\n",
    "ind_train = np.where(((idx + 1) % 4) != 0)\n",
    "ind_test = np.where(((idx + 1) % 4) == 0)\n",
    "X_train = X[ind_train]\n",
    "y_train_enc = y[ind_train]\n",
    "X_test = X[ind_test]\n",
    "y_test_enc = y[ind_test]"
   ]
  },
  {
   "cell_type": "markdown",
   "metadata": {},
   "source": [
    "Uczenie i predykcja, wyznaczenie dokładności predykcji."
   ]
  },
  {
   "cell_type": "code",
   "execution_count": 15,
   "metadata": {},
   "outputs": [
    {
     "name": "stdout",
     "output_type": "stream",
     "text": [
      "Accuracy: 0.8000\n"
     ]
    }
   ],
   "source": [
    "# Utworzenie modelu klasyfikatora\n",
    "clf = tree.DecisionTreeClassifier()\n",
    "\n",
    "# Uczenie klasyfikatora\n",
    "clf = clf.fit(X_train, y_train_enc)\n",
    "\n",
    "# Predykcja\n",
    "y_pred = clf.predict(X_test)\n",
    "\n",
    "# Dokladnosc predykcji\n",
    "print('Accuracy: %.4f' % accuracy_score(y_test_enc, y_pred))"
   ]
  },
  {
   "cell_type": "markdown",
   "metadata": {},
   "source": [
    "Odkodowanie klas w zbiorze uczącym i testowym, wyświetlenie macierzy konfuzji i raportu klasyfikacji"
   ]
  },
  {
   "cell_type": "code",
   "execution_count": 16,
   "metadata": {},
   "outputs": [
    {
     "data": {
      "image/png": "[encoded data removed]",
      "text/plain": [
       "<Figure size 432x432 with 2 Axes>"
      ]
     },
     "metadata": {},
     "output_type": "display_data"
    }
   ],
   "source": [
    "y_test = le.inverse_transform(y_test_enc)\n",
    "y_pred = le.inverse_transform(y_pred)\n",
    "\n",
    "# Macierz konfuzji\n",
    "sns.set(font_scale=1.4)\n",
    "plt.figure(figsize = (6, 6))\n",
    "data = {'etykieta rzeczywista': y_test, 'predykcja': y_pred}\n",
    "df = pd.DataFrame(data, columns=['etykieta rzeczywista', 'predykcja'])\n",
    "confusion_mat = pd.crosstab(df['etykieta rzeczywista'], df['predykcja'], rownames=['etykieta rzeczywista'], colnames=['predykcja'])\n",
    "sns.heatmap(confusion_mat, annot = True, cmap = \"viridis\")\n",
    "plt.tight_layout()\n",
    "plt.show()"
   ]
  },
  {
   "cell_type": "code",
   "execution_count": 17,
   "metadata": {},
   "outputs": [
    {
     "name": "stdout",
     "output_type": "stream",
     "text": [
      "Macierz konfuzji:\n",
      "[[3 0 0 1 1 0]\n",
      " [1 4 0 0 0 0]\n",
      " [0 0 5 0 0 0]\n",
      " [0 0 1 4 0 0]\n",
      " [0 0 0 0 5 0]\n",
      " [0 0 0 0 2 3]]\n",
      "Raport klasyfikacji\n",
      "              precision    recall  f1-score   support\n",
      "\n",
      "           a       0.75      0.60      0.67         5\n",
      "           e       1.00      0.80      0.89         5\n",
      "           i       0.83      1.00      0.91         5\n",
      "           o       0.80      0.80      0.80         5\n",
      "           u       0.62      1.00      0.77         5\n",
      "           y       1.00      0.60      0.75         5\n",
      "\n",
      "    accuracy                           0.80        30\n",
      "   macro avg       0.83      0.80      0.80        30\n",
      "weighted avg       0.83      0.80      0.80        30\n",
      "\n"
     ]
    }
   ],
   "source": [
    "# Macierz konfuzji\n",
    "print(\"Macierz konfuzji:\")\n",
    "print(confusion_matrix(y_test, y_pred))\n",
    "\n",
    "# Raport klasyfikacji\n",
    "print('Raport klasyfikacji')\n",
    "print(classification_report(y_test, y_pred))"
   ]
  },
  {
   "cell_type": "markdown",
   "metadata": {},
   "source": [
    "## Wnioski\n",
    "Dokładność predykcji wyniosła 80.00 %. Jak na klasyfikację wieloklasową z uwzględnieniem 6 klas dokładność może zostać uznana za wysoką. Samogłoska o największej liczbie prawidłowych rozpoznań to 'i'. Wszystkie jej rozpoznania były prawidłowe. Najmniejszą skuteczność zaobserwowano w przypadku rozpoznawania samogłoski 'a'."
   ]
  },
  {
   "cell_type": "markdown",
   "metadata": {},
   "source": [
    "## Przydatne linki\n",
    "Selekcja cech:\n",
    "https://scikit-learn.org/stable/modules/feature_selection.html\n",
    "Kodowanie cech:\n",
    "https://machinelearningmastery.com/how-to-prepare-categorical-data-for-deep-learning-in-python/\n",
    "https://scikit-learn.org/stable/modules/preprocessing_targets.html"
   ]
  },
  {
   "cell_type": "code",
   "execution_count": null,
   "metadata": {},
   "outputs": [],
   "source": []
  }
 ],
 "metadata": {
  "kernelspec": {
   "display_name": "Python 3",
   "language": "python",
   "name": "python3"
  },
  "language_info": {
   "codemirror_mode": {
    "name": "ipython",
    "version": 3
   },
   "file_extension": ".py",
   "mimetype": "text/x-python",
   "name": "python",
   "nbconvert_exporter": "python",
   "pygments_lexer": "ipython3",
   "version": "3.8.6"
  }
 },
 "nbformat": 4,
 "nbformat_minor": 4
}
