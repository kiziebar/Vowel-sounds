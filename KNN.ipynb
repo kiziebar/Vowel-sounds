{
 "cells": [
  {
   "cell_type": "markdown",
   "metadata": {},
   "source": [
    "# Klasyfikacja przy pomocy klasyfikatora KNN"
   ]
  },
  {
   "cell_type": "markdown",
   "metadata": {},
   "source": [
    "## Zaimportowoanie bibliotek"
   ]
  },
  {
   "cell_type": "code",
   "execution_count": 1,
   "metadata": {},
   "outputs": [],
   "source": [
    "from src.extraction import *\n",
    "import pandas as pd \n",
    "import numpy as np\n",
    "import matplotlib.pyplot as plt\n",
    "from sklearn.neighbors import KNeighborsClassifier\n",
    "from sklearn.metrics import accuracy_score, confusion_matrix, plot_confusion_matrix\n",
    "from sklearn import preprocessing\n",
    "from sklearn.ensemble import AdaBoostRegressor\n",
    "from sklearn.feature_selection import SelectFromModel"
   ]
  },
  {
   "cell_type": "markdown",
   "metadata": {},
   "source": [
    "## Funkcja do pozyskiwania zbiorów uczących oraz testowych\n",
    "Podział próbek tak jak w przypadku klasyfikatora drzewa decyzyjnego na 25 \\% próbek w zbiorze uczącym oraz 75 \\% próbek w zbiorze testowym. Próbki zostały podzielone w taki sposób, żeby dla unikalnej klasy przypadały procenty podziałów próbek."
   ]
  },
  {
   "cell_type": "code",
   "execution_count": 2,
   "metadata": {},
   "outputs": [],
   "source": [
    "def get_sets(X, y):\n",
    "    \"\"\" Autor: Aleksandra \"\"\"\n",
    "    idx = np.arange(0, len(X))\n",
    "    ind_train = np.where(((idx + 1) % 4) != 0)\n",
    "    ind_test = np.where(((idx + 1) % 4) == 0)\n",
    "    X_train = X[ind_train]\n",
    "    y_train_enc = y[ind_train]\n",
    "    X_test = X[ind_test]\n",
    "    y_test_enc = y[ind_test]\n",
    "\n",
    "    return X_train, X_test, y_train_enc, y_test_enc"
   ]
  },
  {
   "cell_type": "markdown",
   "metadata": {},
   "source": [
    "## Badanie\n",
    "\n",
    "W badaniu wykorzystano funkcje zaimplementowane w celu ekstrakcji cech. Wyektrahowane zostały dodawane do ramki danych z biblioteki **Pandas**. Uzyskane dane zostały posortowane według współgłosek w celu łatwiejszego podziału zbioru na zbiór uczący oraz testowy dla klasyfikatora KNN. "
   ]
  },
  {
   "cell_type": "code",
   "execution_count": 3,
   "metadata": {},
   "outputs": [],
   "source": [
    "df = create_database().sort_values('vowel')"
   ]
  },
  {
   "cell_type": "code",
   "execution_count": 4,
   "metadata": {},
   "outputs": [
    {
     "data": {
      "text/html": [
       "<div>\n",
       "<style scoped>\n",
       "    .dataframe tbody tr th:only-of-type {\n",
       "        vertical-align: middle;\n",
       "    }\n",
       "\n",
       "    .dataframe tbody tr th {\n",
       "        vertical-align: top;\n",
       "    }\n",
       "\n",
       "    .dataframe thead th {\n",
       "        text-align: right;\n",
       "    }\n",
       "</style>\n",
       "<table border=\"1\" class=\"dataframe\">\n",
       "  <thead>\n",
       "    <tr style=\"text-align: right;\">\n",
       "      <th></th>\n",
       "      <th>vowel</th>\n",
       "      <th>sex</th>\n",
       "      <th>f0</th>\n",
       "      <th>form1</th>\n",
       "      <th>form2</th>\n",
       "      <th>form3</th>\n",
       "      <th>form4</th>\n",
       "      <th>spc1</th>\n",
       "      <th>spc2</th>\n",
       "      <th>spc3</th>\n",
       "      <th>entrspc</th>\n",
       "    </tr>\n",
       "  </thead>\n",
       "  <tbody>\n",
       "    <tr>\n",
       "      <th>0</th>\n",
       "      <td>a</td>\n",
       "      <td>1</td>\n",
       "      <td>204.081633</td>\n",
       "      <td>315.948936</td>\n",
       "      <td>1263.413590</td>\n",
       "      <td>1276.537740</td>\n",
       "      <td>2647.008730</td>\n",
       "      <td>0.000000</td>\n",
       "      <td>0.043574</td>\n",
       "      <td>0.198995</td>\n",
       "      <td>3.815404</td>\n",
       "    </tr>\n",
       "    <tr>\n",
       "      <th>64</th>\n",
       "      <td>a</td>\n",
       "      <td>0</td>\n",
       "      <td>158.730159</td>\n",
       "      <td>0.000000</td>\n",
       "      <td>0.000000</td>\n",
       "      <td>625.723402</td>\n",
       "      <td>1252.624817</td>\n",
       "      <td>0.000000</td>\n",
       "      <td>0.124924</td>\n",
       "      <td>0.603017</td>\n",
       "      <td>2.787091</td>\n",
       "    </tr>\n",
       "    <tr>\n",
       "      <th>65</th>\n",
       "      <td>a</td>\n",
       "      <td>0</td>\n",
       "      <td>147.058824</td>\n",
       "      <td>0.000000</td>\n",
       "      <td>0.000000</td>\n",
       "      <td>585.885056</td>\n",
       "      <td>1224.867304</td>\n",
       "      <td>0.000000</td>\n",
       "      <td>0.230040</td>\n",
       "      <td>0.464162</td>\n",
       "      <td>3.804804</td>\n",
       "    </tr>\n",
       "    <tr>\n",
       "      <th>66</th>\n",
       "      <td>a</td>\n",
       "      <td>0</td>\n",
       "      <td>147.058824</td>\n",
       "      <td>57.147870</td>\n",
       "      <td>547.790667</td>\n",
       "      <td>1226.394104</td>\n",
       "      <td>2741.215155</td>\n",
       "      <td>0.325853</td>\n",
       "      <td>0.356340</td>\n",
       "      <td>0.488478</td>\n",
       "      <td>3.812406</td>\n",
       "    </tr>\n",
       "    <tr>\n",
       "      <th>67</th>\n",
       "      <td>a</td>\n",
       "      <td>0</td>\n",
       "      <td>142.857143</td>\n",
       "      <td>250.250064</td>\n",
       "      <td>896.375921</td>\n",
       "      <td>1150.711714</td>\n",
       "      <td>2714.955427</td>\n",
       "      <td>0.356370</td>\n",
       "      <td>0.628263</td>\n",
       "      <td>1.000000</td>\n",
       "      <td>3.688920</td>\n",
       "    </tr>\n",
       "    <tr>\n",
       "      <th>...</th>\n",
       "      <td>...</td>\n",
       "      <td>...</td>\n",
       "      <td>...</td>\n",
       "      <td>...</td>\n",
       "      <td>...</td>\n",
       "      <td>...</td>\n",
       "      <td>...</td>\n",
       "      <td>...</td>\n",
       "      <td>...</td>\n",
       "      <td>...</td>\n",
       "      <td>...</td>\n",
       "    </tr>\n",
       "    <tr>\n",
       "      <th>52</th>\n",
       "      <td>y</td>\n",
       "      <td>1</td>\n",
       "      <td>188.679245</td>\n",
       "      <td>277.199163</td>\n",
       "      <td>486.697745</td>\n",
       "      <td>2137.913104</td>\n",
       "      <td>2959.066737</td>\n",
       "      <td>0.023442</td>\n",
       "      <td>0.043694</td>\n",
       "      <td>0.148104</td>\n",
       "      <td>2.406425</td>\n",
       "    </tr>\n",
       "    <tr>\n",
       "      <th>51</th>\n",
       "      <td>y</td>\n",
       "      <td>1</td>\n",
       "      <td>188.679245</td>\n",
       "      <td>301.555272</td>\n",
       "      <td>450.490850</td>\n",
       "      <td>2115.201333</td>\n",
       "      <td>2966.392632</td>\n",
       "      <td>0.173376</td>\n",
       "      <td>0.116756</td>\n",
       "      <td>0.082141</td>\n",
       "      <td>2.464107</td>\n",
       "    </tr>\n",
       "    <tr>\n",
       "      <th>50</th>\n",
       "      <td>y</td>\n",
       "      <td>1</td>\n",
       "      <td>204.081633</td>\n",
       "      <td>0.000000</td>\n",
       "      <td>382.441336</td>\n",
       "      <td>1434.444630</td>\n",
       "      <td>2183.091206</td>\n",
       "      <td>0.303255</td>\n",
       "      <td>0.241388</td>\n",
       "      <td>0.154546</td>\n",
       "      <td>2.341790</td>\n",
       "    </tr>\n",
       "    <tr>\n",
       "      <th>118</th>\n",
       "      <td>y</td>\n",
       "      <td>0</td>\n",
       "      <td>138.888889</td>\n",
       "      <td>235.339449</td>\n",
       "      <td>525.554358</td>\n",
       "      <td>1440.605228</td>\n",
       "      <td>2544.053450</td>\n",
       "      <td>0.537042</td>\n",
       "      <td>0.622504</td>\n",
       "      <td>0.970082</td>\n",
       "      <td>3.109960</td>\n",
       "    </tr>\n",
       "    <tr>\n",
       "      <th>119</th>\n",
       "      <td>y</td>\n",
       "      <td>0</td>\n",
       "      <td>135.135135</td>\n",
       "      <td>230.090860</td>\n",
       "      <td>619.243258</td>\n",
       "      <td>1665.573217</td>\n",
       "      <td>2546.468139</td>\n",
       "      <td>0.044209</td>\n",
       "      <td>0.173276</td>\n",
       "      <td>0.198249</td>\n",
       "      <td>3.041003</td>\n",
       "    </tr>\n",
       "  </tbody>\n",
       "</table>\n",
       "<p>120 rows × 11 columns</p>\n",
       "</div>"
      ],
      "text/plain": [
       "    vowel sex          f0       form1        form2        form3        form4  \\\n",
       "0       a   1  204.081633  315.948936  1263.413590  1276.537740  2647.008730   \n",
       "64      a   0  158.730159    0.000000     0.000000   625.723402  1252.624817   \n",
       "65      a   0  147.058824    0.000000     0.000000   585.885056  1224.867304   \n",
       "66      a   0  147.058824   57.147870   547.790667  1226.394104  2741.215155   \n",
       "67      a   0  142.857143  250.250064   896.375921  1150.711714  2714.955427   \n",
       "..    ...  ..         ...         ...          ...          ...          ...   \n",
       "52      y   1  188.679245  277.199163   486.697745  2137.913104  2959.066737   \n",
       "51      y   1  188.679245  301.555272   450.490850  2115.201333  2966.392632   \n",
       "50      y   1  204.081633    0.000000   382.441336  1434.444630  2183.091206   \n",
       "118     y   0  138.888889  235.339449   525.554358  1440.605228  2544.053450   \n",
       "119     y   0  135.135135  230.090860   619.243258  1665.573217  2546.468139   \n",
       "\n",
       "         spc1      spc2      spc3   entrspc  \n",
       "0    0.000000  0.043574  0.198995  3.815404  \n",
       "64   0.000000  0.124924  0.603017  2.787091  \n",
       "65   0.000000  0.230040  0.464162  3.804804  \n",
       "66   0.325853  0.356340  0.488478  3.812406  \n",
       "67   0.356370  0.628263  1.000000  3.688920  \n",
       "..        ...       ...       ...       ...  \n",
       "52   0.023442  0.043694  0.148104  2.406425  \n",
       "51   0.173376  0.116756  0.082141  2.464107  \n",
       "50   0.303255  0.241388  0.154546  2.341790  \n",
       "118  0.537042  0.622504  0.970082  3.109960  \n",
       "119  0.044209  0.173276  0.198249  3.041003  \n",
       "\n",
       "[120 rows x 11 columns]"
      ]
     },
     "execution_count": 4,
     "metadata": {},
     "output_type": "execute_result"
    }
   ],
   "source": [
    "df"
   ]
  },
  {
   "cell_type": "code",
   "execution_count": 5,
   "metadata": {},
   "outputs": [],
   "source": [
    "X = df.iloc[:, 3:].to_numpy()\n",
    "y = df.iloc[:, 0].to_numpy()\n",
    "le = preprocessing.LabelEncoder()\n",
    "le.fit(y)\n",
    "y = le.transform(y)"
   ]
  },
  {
   "cell_type": "code",
   "execution_count": 6,
   "metadata": {},
   "outputs": [],
   "source": [
    "X_train, X_test, y_train_enc, y_test_enc = get_sets(X, y)"
   ]
  },
  {
   "cell_type": "markdown",
   "metadata": {},
   "source": [
    "## Ustalenie ważności poszczególnych cech\n",
    "\n",
    "W celu ustalenia wag poszczególnych cech wykorzystano algorytm boostingowy AdaBoost w formie regresora. Algorytm ten można przedstawić w następujących krokachh [1]:\n",
    "\n",
    "1. Dopasowanie regresora do oryginalnego zestawu danych\n",
    "2. Dopasowanie kopii regresora do tego samego zestawu danych\n",
    "3. Dopasowanie wag wystąpień zgodnie z błędem aktualnej prognozy\n",
    "\n",
    "Algorytm AdaBoostRegressor pozyskano z biblioteki sklearn z pakietu ensemble. Liczbę estymatorów ustalono arbitralnie jako 100. "
   ]
  },
  {
   "cell_type": "code",
   "execution_count": 7,
   "metadata": {},
   "outputs": [],
   "source": [
    "regr = AdaBoostRegressor(n_estimators=100)\n",
    "regr = regr.fit(X, y)"
   ]
  },
  {
   "cell_type": "code",
   "execution_count": 8,
   "metadata": {},
   "outputs": [],
   "source": [
    "model = SelectFromModel(regr, prefit=True)\n",
    "X = model.transform(X)"
   ]
  },
  {
   "cell_type": "code",
   "execution_count": 9,
   "metadata": {},
   "outputs": [
    {
     "name": "stdout",
     "output_type": "stream",
     "text": [
      "Wagi poszczególnych cech:\n",
      "[0.05759978 0.19608382 0.17057762 0.12162683 0.07402954 0.07592335\n",
      " 0.08184199 0.22231707]\n"
     ]
    }
   ],
   "source": [
    "print(\"Wagi poszczególnych cech:\")\n",
    "print(regr.feature_importances_)"
   ]
  },
  {
   "cell_type": "markdown",
   "metadata": {},
   "source": [
    "## Klasyfikacja za pomocą metody najbliższych sąsiadów\n",
    "\n",
    "Klasyfikację wykonano metodą najbliższych sąsiadów, która jak sama nazwa wskazuje bazuje na odległości od poszczególnych próbek w celu zaliczenia ich do danej klasy. Uczenie nastąpiło na wybranym zbiorze uczącym, natomiast predykcja na wybranym zbiorze testowym. W celu uzyskania klas poszczególnych próbek wykorzystano enkoder. Wyniki przedstawiono przy pomocy macierzy konfuzji oraz metryki dokładności."
   ]
  },
  {
   "cell_type": "code",
   "execution_count": 11,
   "metadata": {},
   "outputs": [],
   "source": [
    "y_test = le.inverse_transform(y_test_enc)"
   ]
  },
  {
   "cell_type": "code",
   "execution_count": 12,
   "metadata": {},
   "outputs": [],
   "source": [
    "clf = KNeighborsClassifier(n_neighbors=3)\n",
    "clf.fit(X_train, y_train_enc)\n",
    "y_pred = clf.predict(X_test)"
   ]
  },
  {
   "cell_type": "code",
   "execution_count": 19,
   "metadata": {},
   "outputs": [
    {
     "data": {
      "image/png": "[encoded data removed]",
      "text/plain": [
       "<Figure size 864x720 with 2 Axes>"
      ]
     },
     "metadata": {
      "needs_background": "light"
     },
     "output_type": "display_data"
    }
   ],
   "source": [
    "fig, ax = plt.subplots(figsize=(12,10))\n",
    "plot_confusion_matrix(clf, X_test, y_test_enc, display_labels=np.unique(y_test), ax=ax, normalize='true', cmap='Blues')\n",
    "plt.title(f'Accuracy: {accuracy_score(y_test_enc, y_pred):.4f}')\n",
    "plt.show()"
   ]
  },
  {
   "cell_type": "markdown",
   "metadata": {},
   "source": [
    "## Wnioski\n",
    "\n",
    "Uzyskane wyniki świadczą o akceptowalnej dokładności klasyfikatora. Najwięcej próbek poprawnych zostało zaklasyfikowanych dla samogłoski *y*. Najmniej natomiast zostało dobrze zaklasyfikowanych dla klasy *o*. Dokładność klasyfikacji algorymtu najbliższego sąsiada wyniosła 0.8333."
   ]
  },
  {
   "cell_type": "markdown",
   "metadata": {},
   "source": [
    "## Bibliografia\n",
    "\n",
    "[1] Y. Freund, R. Schapire, “A Decision-Theoretic Generalization of on-Line Learning and an Application to Boosting”, 1995"
   ]
  }
 ],
 "metadata": {
  "kernelspec": {
   "display_name": "Python 3",
   "language": "python",
   "name": "python3"
  },
  "language_info": {
   "codemirror_mode": {
    "name": "ipython",
    "version": 3
   },
   "file_extension": ".py",
   "mimetype": "text/x-python",
   "name": "python",
   "nbconvert_exporter": "python",
   "pygments_lexer": "ipython3",
   "version": "3.8.7"
  }
 },
 "nbformat": 4,
 "nbformat_minor": 1
}