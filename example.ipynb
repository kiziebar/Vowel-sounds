{
 "cells": [
  {
   "cell_type": "markdown",
   "metadata": {
    "collapsed": true
   },
   "source": [
    "# Przykłady projektu"
   ]
  },
  {
   "cell_type": "markdown",
   "metadata": {},
   "source": [
    "## Przykład ekstrakcji cech do bazy\n",
    "\n",
    "Poniżej została przedstawiona ekstrakcja cech z sygnałów pochodzących ze ścieżki domyślnej do bazy z rozszerzeniem *.csv*. W bazie zostały zapisywane dane dotyczące typu samogłoski, częstotliwości podstawowej, formantów oraz płci. W przypadku, gdy płeć oznaczona jako 0 to mężczyzna, natomiast płeć oznaczona jako 1 to kobieta. Uzyskano 120 próbek."
   ]
  },
  {
   "cell_type": "code",
   "execution_count": 1,
   "metadata": {},
   "outputs": [],
   "source": [
    "from src.extraction import *"
   ]
  },
  {
   "cell_type": "code",
   "execution_count": 2,
   "metadata": {},
   "outputs": [],
   "source": [
    "df = create_database()"
   ]
  },
  {
   "cell_type": "code",
   "execution_count": 3,
   "metadata": {},
   "outputs": [
    {
     "data": {
      "text/html": [
       "<div>\n",
       "<style scoped>\n",
       "    .dataframe tbody tr th:only-of-type {\n",
       "        vertical-align: middle;\n",
       "    }\n",
       "\n",
       "    .dataframe tbody tr th {\n",
       "        vertical-align: top;\n",
       "    }\n",
       "\n",
       "    .dataframe thead th {\n",
       "        text-align: right;\n",
       "    }\n",
       "</style>\n",
       "<table border=\"1\" class=\"dataframe\">\n",
       "  <thead>\n",
       "    <tr style=\"text-align: right;\">\n",
       "      <th></th>\n",
       "      <th>vowel</th>\n",
       "      <th>sex</th>\n",
       "      <th>f0</th>\n",
       "      <th>form1</th>\n",
       "      <th>form2</th>\n",
       "      <th>form3</th>\n",
       "      <th>form4</th>\n",
       "    </tr>\n",
       "  </thead>\n",
       "  <tbody>\n",
       "    <tr>\n",
       "      <th>0</th>\n",
       "      <td>a</td>\n",
       "      <td>1</td>\n",
       "      <td>204.081633</td>\n",
       "      <td>315.948936</td>\n",
       "      <td>1263.413590</td>\n",
       "      <td>1276.537740</td>\n",
       "      <td>2647.008730</td>\n",
       "    </tr>\n",
       "    <tr>\n",
       "      <th>1</th>\n",
       "      <td>a</td>\n",
       "      <td>1</td>\n",
       "      <td>196.078431</td>\n",
       "      <td>242.712410</td>\n",
       "      <td>805.882072</td>\n",
       "      <td>1374.298616</td>\n",
       "      <td>2839.218112</td>\n",
       "    </tr>\n",
       "    <tr>\n",
       "      <th>2</th>\n",
       "      <td>a</td>\n",
       "      <td>1</td>\n",
       "      <td>196.078431</td>\n",
       "      <td>217.568989</td>\n",
       "      <td>1028.162184</td>\n",
       "      <td>1497.574134</td>\n",
       "      <td>2940.119600</td>\n",
       "    </tr>\n",
       "    <tr>\n",
       "      <th>3</th>\n",
       "      <td>a</td>\n",
       "      <td>1</td>\n",
       "      <td>192.307692</td>\n",
       "      <td>231.209209</td>\n",
       "      <td>1085.102842</td>\n",
       "      <td>1496.766417</td>\n",
       "      <td>2867.654232</td>\n",
       "    </tr>\n",
       "    <tr>\n",
       "      <th>4</th>\n",
       "      <td>a</td>\n",
       "      <td>1</td>\n",
       "      <td>192.307692</td>\n",
       "      <td>234.594628</td>\n",
       "      <td>1034.159946</td>\n",
       "      <td>1475.186939</td>\n",
       "      <td>2965.366175</td>\n",
       "    </tr>\n",
       "    <tr>\n",
       "      <th>...</th>\n",
       "      <td>...</td>\n",
       "      <td>...</td>\n",
       "      <td>...</td>\n",
       "      <td>...</td>\n",
       "      <td>...</td>\n",
       "      <td>...</td>\n",
       "      <td>...</td>\n",
       "    </tr>\n",
       "    <tr>\n",
       "      <th>115</th>\n",
       "      <td>y</td>\n",
       "      <td>0</td>\n",
       "      <td>140.845070</td>\n",
       "      <td>303.013981</td>\n",
       "      <td>646.618834</td>\n",
       "      <td>1541.130316</td>\n",
       "      <td>2541.564076</td>\n",
       "    </tr>\n",
       "    <tr>\n",
       "      <th>116</th>\n",
       "      <td>y</td>\n",
       "      <td>0</td>\n",
       "      <td>140.845070</td>\n",
       "      <td>287.549398</td>\n",
       "      <td>672.236633</td>\n",
       "      <td>1529.768064</td>\n",
       "      <td>2524.670542</td>\n",
       "    </tr>\n",
       "    <tr>\n",
       "      <th>117</th>\n",
       "      <td>y</td>\n",
       "      <td>0</td>\n",
       "      <td>138.888889</td>\n",
       "      <td>0.000000</td>\n",
       "      <td>0.000000</td>\n",
       "      <td>265.970918</td>\n",
       "      <td>1502.048156</td>\n",
       "    </tr>\n",
       "    <tr>\n",
       "      <th>118</th>\n",
       "      <td>y</td>\n",
       "      <td>0</td>\n",
       "      <td>138.888889</td>\n",
       "      <td>235.339449</td>\n",
       "      <td>525.554358</td>\n",
       "      <td>1440.605228</td>\n",
       "      <td>2544.053450</td>\n",
       "    </tr>\n",
       "    <tr>\n",
       "      <th>119</th>\n",
       "      <td>y</td>\n",
       "      <td>0</td>\n",
       "      <td>135.135135</td>\n",
       "      <td>230.090860</td>\n",
       "      <td>619.243258</td>\n",
       "      <td>1665.573217</td>\n",
       "      <td>2546.468139</td>\n",
       "    </tr>\n",
       "  </tbody>\n",
       "</table>\n",
       "<p>120 rows × 7 columns</p>\n",
       "</div>"
      ],
      "text/plain": [
       "    vowel sex          f0       form1        form2        form3        form4\n",
       "0       a   1  204.081633  315.948936  1263.413590  1276.537740  2647.008730\n",
       "1       a   1  196.078431  242.712410   805.882072  1374.298616  2839.218112\n",
       "2       a   1  196.078431  217.568989  1028.162184  1497.574134  2940.119600\n",
       "3       a   1  192.307692  231.209209  1085.102842  1496.766417  2867.654232\n",
       "4       a   1  192.307692  234.594628  1034.159946  1475.186939  2965.366175\n",
       "..    ...  ..         ...         ...          ...          ...          ...\n",
       "115     y   0  140.845070  303.013981   646.618834  1541.130316  2541.564076\n",
       "116     y   0  140.845070  287.549398   672.236633  1529.768064  2524.670542\n",
       "117     y   0  138.888889    0.000000     0.000000   265.970918  1502.048156\n",
       "118     y   0  138.888889  235.339449   525.554358  1440.605228  2544.053450\n",
       "119     y   0  135.135135  230.090860   619.243258  1665.573217  2546.468139\n",
       "\n",
       "[120 rows x 7 columns]"
      ]
     },
     "execution_count": 3,
     "metadata": {},
     "output_type": "execute_result"
    }
   ],
   "source": [
    "df"
   ]
  },
  {
   "cell_type": "markdown",
   "metadata": {},
   "source": [
    "## Przykładowa obwiednia widma próbki *a*\n",
    "\n",
    "Poniżej przedstawiono przykładową obwiednię dla widma uzyskanego z próbki *a*. Próbka pochodziła z pliku o nazwie *f_a_1.wav*."
   ]
  },
  {
   "cell_type": "code",
   "execution_count": 4,
   "metadata": {},
   "outputs": [],
   "source": [
    "import matplotlib.pyplot as plt"
   ]
  },
  {
   "cell_type": "code",
   "execution_count": 5,
   "metadata": {},
   "outputs": [],
   "source": [
    "def get_fft(signal):\n",
    "    signal_y = np.fft.fft(signal)\n",
    "    return 2.0/len(signal) * np.abs(signal_y[0:len(signal)//2])"
   ]
  },
  {
   "cell_type": "code",
   "execution_count": 6,
   "metadata": {},
   "outputs": [],
   "source": [
    "singal_r, fs = get_signal('src/vowels_dataset/f_a_1.wav')\n",
    "x = np.linspace(0, len(singal_r)*(1/fs), len(singal_r), endpoint=False)\n",
    "signal_x = np.fft.fftfreq(len(singal_r), (1/fs))[:len(singal_r)//2]\n",
    "sing_fft = get_fft(singal_r)\n",
    "ind_max, _, sig_max, _ = get_envelope(sing_fft, 500)"
   ]
  },
  {
   "cell_type": "code",
   "execution_count": 7,
   "metadata": {},
   "outputs": [
    {
     "data": {
      "image/png": "[encoded data removed]",
      "text/plain": [
       "<Figure size 1080x360 with 1 Axes>"
      ]
     },
     "metadata": {
      "needs_background": "light"
     },
     "output_type": "display_data"
    }
   ],
   "source": [
    "fig, ax = plt.subplots(figsize=(15, 5))\n",
    "ax.plot(signal_x, get_fft(singal_r), alpha=0.6, color='black')\n",
    "ax.plot(signal_x[ind_max], sig_max, color='green')\n",
    "plt.show()"
   ]
  }
 ],
 "metadata": {
  "kernelspec": {
   "display_name": "Python 3",
   "language": "python",
   "name": "python3"
  },
  "language_info": {
   "codemirror_mode": {
    "name": "ipython",
    "version": 3
   },
   "file_extension": ".py",
   "mimetype": "text/x-python",
   "name": "python",
   "nbconvert_exporter": "python",
   "pygments_lexer": "ipython3",
   "version": "3.8.7"
  }
 },
 "nbformat": 4,
 "nbformat_minor": 1
}